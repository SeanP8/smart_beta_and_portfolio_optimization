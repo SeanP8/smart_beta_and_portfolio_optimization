{
 "cells": [
  {
   "cell_type": "code",
   "execution_count": 1,
   "metadata": {},
   "outputs": [],
   "source": [
    "import os"
   ]
  },
  {
   "cell_type": "code",
   "execution_count": 2,
   "metadata": {},
   "outputs": [
    {
     "name": "stdout",
     "output_type": "stream",
     "text": [
      "/home/workspace\n"
     ]
    }
   ],
   "source": [
    "print(os.getcwd())"
   ]
  },
  {
   "cell_type": "code",
   "execution_count": 3,
   "metadata": {},
   "outputs": [
    {
     "name": "stdout",
     "output_type": "stream",
     "text": [
      "['zip_files.ipynb', 'project_helper.py', 'tests.py', '.ipynb_checkpoints', 'output.zip', 'project_4_starter.ipynb', 'requirements.txt', '.Trash-0', '__pycache__', 'project_tests.py']\n"
     ]
    }
   ],
   "source": [
    "print(os.listdir())"
   ]
  },
  {
   "cell_type": "code",
   "execution_count": 4,
   "metadata": {},
   "outputs": [],
   "source": [
    "os.chdir(\"..\")"
   ]
  },
  {
   "cell_type": "code",
   "execution_count": 5,
   "metadata": {},
   "outputs": [
    {
     "name": "stdout",
     "output_type": "stream",
     "text": [
      "['backups', 'output.zip', 'workspace']\n"
     ]
    }
   ],
   "source": [
    "print(os.listdir())"
   ]
  },
  {
   "cell_type": "code",
   "execution_count": 6,
   "metadata": {},
   "outputs": [
    {
     "name": "stdout",
     "output_type": "stream",
     "text": [
      "/home\n"
     ]
    }
   ],
   "source": [
    "print(os.getcwd())"
   ]
  },
  {
   "cell_type": "code",
   "execution_count": 7,
   "metadata": {},
   "outputs": [
    {
     "name": "stdout",
     "output_type": "stream",
     "text": [
      "  adding: home/workspace/ (stored 0%)\n",
      "  adding: home/workspace/zip_files.ipynb (deflated 84%)\n",
      "  adding: home/workspace/project_helper.py (deflated 61%)\n",
      "  adding: home/workspace/tests.py (deflated 74%)\n",
      "  adding: home/workspace/.ipynb_checkpoints/ (stored 0%)\n",
      "  adding: home/workspace/.ipynb_checkpoints/project_4_starter-checkpoint.ipynb (deflated 37%)\n",
      "  adding: home/workspace/.ipynb_checkpoints/zip_files-checkpoint.ipynb (deflated 84%)\n",
      "  adding: home/workspace/project_4_starter.ipynb (deflated 37%)\n",
      "  adding: home/workspace/requirements.txt (deflated 34%)\n",
      "  adding: home/workspace/.Trash-0/ (stored 0%)\n",
      "  adding: home/workspace/.Trash-0/files/ (stored 0%)\n",
      "  adding: home/workspace/.Trash-0/files/foo.txt (stored 0%)\n",
      "  adding: home/workspace/.Trash-0/files/Project4 2.ipynb (deflated 77%)\n",
      "  adding: home/workspace/.Trash-0/files/requirements 1.txt (deflated 36%)\n",
      "  adding: home/workspace/.Trash-0/files/sector_names.csv (deflated 13%)\n",
      "  adding: home/workspace/.Trash-0/files/research_tools.py (deflated 68%)\n",
      "  adding: home/workspace/.Trash-0/files/Project4.ipynb (deflated 33%)\n",
      "  adding: home/workspace/.Trash-0/files/ics_scheme.py (deflated 75%)\n",
      "  adding: home/workspace/.Trash-0/files/Project4 1.ipynb (deflated 77%)\n",
      "  adding: home/workspace/.Trash-0/files/Project4 3.ipynb (deflated 77%)\n",
      "  adding: home/workspace/.Trash-0/files/profiles_20170918.csv (deflated 70%)\n",
      "  adding: home/workspace/.Trash-0/files/cik_ticker_09152017.csv (deflated 59%)\n",
      "  adding: home/workspace/.Trash-0/files/requirements.txt (deflated 35%)\n",
      "  adding: home/workspace/.Trash-0/files/sectors.npy (deflated 91%)\n",
      "  adding: home/workspace/.Trash-0/files/requirements 2.txt (deflated 36%)\n",
      "  adding: home/workspace/.Trash-0/info/ (stored 0%)\n",
      "  adding: home/workspace/.Trash-0/info/requirements 1.txt.trashinfo (stored 0%)\n",
      "  adding: home/workspace/.Trash-0/info/ics_scheme.py.trashinfo (stored 0%)\n",
      "  adding: home/workspace/.Trash-0/info/sectors.npy.trashinfo (stored 0%)\n",
      "  adding: home/workspace/.Trash-0/info/Project4 3.ipynb.trashinfo (stored 0%)\n",
      "  adding: home/workspace/.Trash-0/info/research_tools.py.trashinfo (stored 0%)\n",
      "  adding: home/workspace/.Trash-0/info/Project4 1.ipynb.trashinfo (stored 0%)\n",
      "  adding: home/workspace/.Trash-0/info/requirements.txt.trashinfo (stored 0%)\n",
      "  adding: home/workspace/.Trash-0/info/foo.txt.trashinfo (stored 0%)\n",
      "  adding: home/workspace/.Trash-0/info/Project4 2.ipynb.trashinfo (stored 0%)\n",
      "  adding: home/workspace/.Trash-0/info/Project4.ipynb.trashinfo (stored 0%)\n",
      "  adding: home/workspace/.Trash-0/info/requirements 2.txt.trashinfo (stored 0%)\n",
      "  adding: home/workspace/.Trash-0/info/profiles_20170918.csv.trashinfo (stored 0%)\n",
      "  adding: home/workspace/.Trash-0/info/sector_names.csv.trashinfo (stored 0%)\n",
      "  adding: home/workspace/.Trash-0/info/cik_ticker_09152017.csv.trashinfo (stored 0%)\n",
      "  adding: home/workspace/__pycache__/ (stored 0%)\n",
      "  adding: home/workspace/__pycache__/tests.cpython-36.pyc (deflated 49%)\n",
      "  adding: home/workspace/__pycache__/project_helper.cpython-36.pyc (deflated 46%)\n",
      "  adding: home/workspace/__pycache__/project_tests.cpython-36.pyc (deflated 60%)\n",
      "  adding: home/workspace/project_tests.py (deflated 82%)\n"
     ]
    }
   ],
   "source": [
    "%%bash\n",
    "zip -r /home/workspace/output.zip /home/workspace"
   ]
  },
  {
   "cell_type": "code",
   "execution_count": 5,
   "metadata": {},
   "outputs": [
    {
     "name": "stdout",
     "output_type": "stream",
     "text": [
      "['zip_files.ipynb', 'project_helper.py', 'tests.py', '.ipynb_checkpoints', 'output.zip', 'project_4_starter.ipynb', 'requirements.txt', '.Trash-0', '__pycache__', 'project_tests.py']\n"
     ]
    }
   ],
   "source": [
    "os.chdir(\"/home/workspace\")\n",
    "print(os.listdir())"
   ]
  },
  {
   "cell_type": "code",
   "execution_count": null,
   "metadata": {},
   "outputs": [],
   "source": []
  }
 ],
 "metadata": {
  "kernelspec": {
   "display_name": "Python 3",
   "language": "python",
   "name": "python3"
  },
  "language_info": {
   "codemirror_mode": {
    "name": "ipython",
    "version": 3
   },
   "file_extension": ".py",
   "mimetype": "text/x-python",
   "name": "python",
   "nbconvert_exporter": "python",
   "pygments_lexer": "ipython3",
   "version": "3.7.5"
  }
 },
 "nbformat": 4,
 "nbformat_minor": 2
}
