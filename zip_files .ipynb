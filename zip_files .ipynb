{
 "cells": [
  {
   "cell_type": "code",
   "execution_count": 1,
   "metadata": {},
   "outputs": [],
   "source": [
    "import os"
   ]
  },
  {
   "cell_type": "code",
   "execution_count": 2,
   "metadata": {},
   "outputs": [
    {
     "name": "stdout",
     "output_type": "stream",
     "text": [
      "/home/workspace\n"
     ]
    }
   ],
   "source": [
    "print(os.getcwd())"
   ]
  },
  {
   "cell_type": "code",
   "execution_count": 3,
   "metadata": {},
   "outputs": [
    {
     "name": "stdout",
     "output_type": "stream",
     "text": [
      "['graphs', 'project_helper.py', 'tests.py', 'eod-quotemedia.csv', '.ipynb_checkpoints', 'project_3_starter.ipynb', 'helper.py', 'zip_files .ipynb', 'requirements.txt', '.Trash-0', '__pycache__', 'project_tests.py']\n"
     ]
    }
   ],
   "source": [
    "print(os.listdir())"
   ]
  },
  {
   "cell_type": "code",
   "execution_count": 4,
   "metadata": {},
   "outputs": [],
   "source": [
    "os.chdir(\"..\")"
   ]
  },
  {
   "cell_type": "code",
   "execution_count": 5,
   "metadata": {},
   "outputs": [
    {
     "name": "stdout",
     "output_type": "stream",
     "text": [
      "['backups', 'workspace']\n"
     ]
    }
   ],
   "source": [
    "print(os.listdir())"
   ]
  },
  {
   "cell_type": "code",
   "execution_count": 6,
   "metadata": {},
   "outputs": [
    {
     "name": "stdout",
     "output_type": "stream",
     "text": [
      "/home\n"
     ]
    }
   ],
   "source": [
    "print(os.getcwd())"
   ]
  },
  {
   "cell_type": "code",
   "execution_count": 7,
   "metadata": {},
   "outputs": [
    {
     "name": "stdout",
     "output_type": "stream",
     "text": [
      "  adding: home/workspace/ (stored 0%)\n",
      "  adding: home/workspace/graphs/ (stored 0%)\n",
      "  adding: home/workspace/graphs/CovarianceReturnsCorrelationMatrix.html (deflated 73%)\n",
      "  adding: home/workspace/graphs/.ipynb_checkpoints/ (stored 0%)\n",
      "  adding: home/workspace/graphs/CloseReturns.html (deflated 77%)\n",
      "  adding: home/workspace/graphs/ETFWeights.html (deflated 83%)\n",
      "  adding: home/workspace/graphs/IndexReturns.html (deflated 78%)\n",
      "  adding: home/workspace/graphs/ETFReturns.html (deflated 80%)\n",
      "  adding: home/workspace/graphs/IndexWeights.html (deflated 78%)\n",
      "  adding: home/workspace/project_helper.py (deflated 73%)\n",
      "  adding: home/workspace/tests.py (deflated 73%)\n",
      "  adding: home/workspace/eod-quotemedia.csv (deflated 66%)\n",
      "  adding: home/workspace/.ipynb_checkpoints/ (stored 0%)\n",
      "  adding: home/workspace/.ipynb_checkpoints/project_3_starter-checkpoint.ipynb (deflated 69%)\n",
      "  adding: home/workspace/.ipynb_checkpoints/zip_files -checkpoint.ipynb (deflated 85%)\n",
      "  adding: home/workspace/project_3_starter.ipynb (deflated 71%)\n",
      "  adding: home/workspace/helper.py (deflated 46%)\n",
      "  adding: home/workspace/zip_files .ipynb (deflated 76%)\n",
      "  adding: home/workspace/requirements.txt (deflated 31%)\n",
      "  adding: home/workspace/.Trash-0/ (stored 0%)\n",
      "  adding: home/workspace/.Trash-0/files/ (stored 0%)\n",
      "  adding: home/workspace/.Trash-0/files/requirements 4.txt (deflated 33%)\n",
      "  adding: home/workspace/.Trash-0/files/tests 1.py (deflated 73%)\n",
      "  adding: home/workspace/.Trash-0/files/project_3_solution 6.ipynb (deflated 80%)\n",
      "  adding: home/workspace/.Trash-0/files/helper 1.py (deflated 69%)\n",
      "  adding: home/workspace/.Trash-0/files/WIKI_PRICES 1.csv (deflated 68%)\n",
      "  adding: home/workspace/.Trash-0/files/project_3_starter 11.ipynb (deflated 77%)\n",
      "  adding: home/workspace/.Trash-0/files/graphs/ (stored 0%)\n",
      "  adding: home/workspace/.Trash-0/files/graphs/.ipynb_checkpoints/ (stored 0%)\n",
      "  adding: home/workspace/.Trash-0/files/project_3_starter 12.ipynb (deflated 77%)\n",
      "  adding: home/workspace/.Trash-0/files/project_helper.py (deflated 70%)\n",
      "  adding: home/workspace/.Trash-0/files/project_3_solution.ipynb (deflated 80%)\n",
      "  adding: home/workspace/.Trash-0/files/helper 7.py (deflated 61%)\n",
      "  adding: home/workspace/.Trash-0/files/CovarianceReturnsCorrelationMatrix.html (deflated 73%)\n",
      "  adding: home/workspace/.Trash-0/files/ETFReturns 2.html (deflated 80%)\n",
      "  adding: home/workspace/.Trash-0/files/helper 6.py (deflated 61%)\n",
      "  adding: home/workspace/.Trash-0/files/IndexWeights 1.html (deflated 80%)\n",
      "  adding: home/workspace/.Trash-0/files/project_3_solution 5.ipynb (deflated 81%)\n",
      "  adding: home/workspace/.Trash-0/files/ETFWeights 2.html (deflated 83%)\n",
      "  adding: home/workspace/.Trash-0/files/project_tests 7.py (deflated 79%)\n",
      "  adding: home/workspace/.Trash-0/files/project_3_solution 9.ipynb (deflated 77%)\n",
      "  adding: home/workspace/.Trash-0/files/requirements 1.txt (deflated 9%)\n",
      "  adding: home/workspace/.Trash-0/files/tests.py (deflated 73%)\n",
      "  adding: home/workspace/.Trash-0/files/helper 5.py (deflated 61%)\n",
      "  adding: home/workspace/.Trash-0/files/project_3_starter 3.ipynb (deflated 81%)\n",
      "  adding: home/workspace/.Trash-0/files/data 2/ (stored 0%)\n",
      "  adding: home/workspace/.Trash-0/files/data 2/tickers_SnP500.txt (deflated 45%)\n",
      "  adding: home/workspace/.Trash-0/files/project_3_starter 1.ipynb (deflated 81%)\n",
      "  adding: home/workspace/.Trash-0/files/CloseReturns.html (deflated 80%)\n",
      "  adding: home/workspace/.Trash-0/files/project_3_starter.ipynb (deflated 81%)\n",
      "  adding: home/workspace/.Trash-0/files/project_3_starter 2.ipynb (deflated 80%)\n",
      "  adding: home/workspace/.Trash-0/files/project_3_solution 7.ipynb (deflated 80%)\n",
      "  adding: home/workspace/.Trash-0/files/helper.py (deflated 68%)\n",
      "  adding: home/workspace/.Trash-0/files/project_3_starter 10.ipynb (deflated 77%)\n",
      "  adding: home/workspace/.Trash-0/files/IndexWeights 2.html (deflated 78%)\n",
      "  adding: home/workspace/.Trash-0/files/tickers_SnP500.txt (deflated 45%)\n",
      "  adding: home/workspace/.Trash-0/files/project_3_starter 4.ipynb (deflated 80%)\n",
      "  adding: home/workspace/.Trash-0/files/project_3_starter 6.ipynb (deflated 80%)\n",
      "  adding: home/workspace/.Trash-0/files/data 1/ (stored 0%)\n",
      "  adding: home/workspace/.Trash-0/files/data 1/tickers_SnP500.txt (deflated 45%)\n",
      "  adding: home/workspace/.Trash-0/files/project_tests 2.py (deflated 78%)\n",
      "  adding: home/workspace/.Trash-0/files/project_tests 1.py (deflated 78%)\n",
      "  adding: home/workspace/.Trash-0/files/project_tests 4.py (deflated 78%)\n",
      "  adding: home/workspace/.Trash-0/files/project_tests 5.py (deflated 77%)\n",
      "  adding: home/workspace/.Trash-0/files/project_3_starter 5.ipynb (deflated 81%)\n",
      "  adding: home/workspace/.Trash-0/files/ETFReturns 1.html (deflated 82%)\n",
      "  adding: home/workspace/.Trash-0/files/project_3_solution 4.ipynb (deflated 81%)\n",
      "  adding: home/workspace/.Trash-0/files/requirements 5.txt (deflated 9%)\n",
      "  adding: home/workspace/.Trash-0/files/project_tests 3.py (deflated 78%)\n",
      "  adding: home/workspace/.Trash-0/files/tickers_SnP500 1.txt (deflated 45%)\n",
      "  adding: home/workspace/.Trash-0/files/IndexReturns 1.html (deflated 81%)\n",
      "  adding: home/workspace/.Trash-0/files/project_helper 3.py (deflated 73%)\n",
      "  adding: home/workspace/.Trash-0/files/project_helper 1.py (deflated 70%)\n",
      "  adding: home/workspace/.Trash-0/files/data/ (stored 0%)\n",
      "  adding: home/workspace/.Trash-0/files/data/.ipynb_checkpoints/ (stored 0%)\n",
      "  adding: home/workspace/.Trash-0/files/data/tickers_SnP500.txt (deflated 45%)\n",
      "  adding: home/workspace/.Trash-0/files/requirements 6.txt (deflated 33%)\n",
      "  adding: home/workspace/.Trash-0/files/project_helper 2.py (deflated 74%)\n",
      "  adding: home/workspace/.Trash-0/files/CloseReturns 1.html (deflated 80%)\n",
      "  adding: home/workspace/.Trash-0/files/helper 3.py (deflated 63%)\n",
      "  adding: home/workspace/.Trash-0/files/requirements 9.txt (deflated 32%)\n",
      "  adding: home/workspace/.Trash-0/files/project_tests 6.py (deflated 79%)\n",
      "  adding: home/workspace/.Trash-0/files/project_helper 4.py (deflated 73%)\n",
      "  adding: home/workspace/.Trash-0/files/project_3_solution 1.ipynb (deflated 80%)\n",
      "  adding: home/workspace/.Trash-0/files/project_3_starter 8.ipynb (deflated 78%)\n",
      "  adding: home/workspace/.Trash-0/files/requirements.txt (deflated 34%)\n",
      "  adding: home/workspace/.Trash-0/files/project_3_solution 8.ipynb (deflated 77%)\n",
      "  adding: home/workspace/.Trash-0/files/project_3_solution 2.ipynb (deflated 80%)\n",
      "  adding: home/workspace/.Trash-0/files/requirements 3.txt (deflated 9%)\n",
      "  adding: home/workspace/.Trash-0/files/project_3_starter 9.ipynb (deflated 78%)\n",
      "  adding: home/workspace/.Trash-0/files/project_tests.py (deflated 78%)\n",
      "  adding: home/workspace/.Trash-0/files/project_3_solution 10.ipynb (deflated 70%)\n",
      "  adding: home/workspace/.Trash-0/files/IndexReturns 2.html (deflated 78%)\n",
      "  adding: home/workspace/.Trash-0/files/helper 2.py (deflated 69%)\n",
      "  adding: home/workspace/.Trash-0/files/ETFWeights.html (deflated 85%)\n",
      "  adding: home/workspace/.Trash-0/files/CloseReturns 2.html (deflated 77%)\n",
      "  adding: home/workspace/.Trash-0/files/requirements 8.txt (deflated 32%)\n",
      "  adding: home/workspace/.Trash-0/files/project_3_solution 3.ipynb (deflated 80%)\n",
      "  adding: home/workspace/.Trash-0/files/project_3_starter 13.ipynb (deflated 77%)\n",
      "  adding: home/workspace/.Trash-0/files/WIKI_PRICES.csv (deflated 68%)\n",
      "  adding: home/workspace/.Trash-0/files/graphs 1/ (stored 0%)\n",
      "  adding: home/workspace/.Trash-0/files/ETFWeights 1.html (deflated 85%)\n",
      "  adding: home/workspace/.Trash-0/files/project_3_starter 7.ipynb (deflated 81%)\n",
      "  adding: home/workspace/.Trash-0/files/IndexReturns.html (deflated 81%)\n",
      "  adding: home/workspace/.Trash-0/files/ETFReturns.html (deflated 82%)\n",
      "  adding: home/workspace/.Trash-0/files/requirements 7.txt (deflated 32%)\n",
      "  adding: home/workspace/.Trash-0/files/IndexWeights.html (deflated 80%)\n",
      "  adding: home/workspace/.Trash-0/files/helper 4.py (deflated 63%)\n",
      "  adding: home/workspace/.Trash-0/files/requirements 2.txt (deflated 34%)\n",
      "  adding: home/workspace/.Trash-0/info/ (stored 0%)\n",
      "  adding: home/workspace/.Trash-0/info/project_helper 3.py.trashinfo (stored 0%)\n",
      "  adding: home/workspace/.Trash-0/info/project_3_starter 11.ipynb.trashinfo (stored 0%)\n",
      "  adding: home/workspace/.Trash-0/info/data.trashinfo (stored 0%)\n",
      "  adding: home/workspace/.Trash-0/info/project_3_solution 10.ipynb.trashinfo (deflated 1%)\n",
      "  adding: home/workspace/.Trash-0/info/project_3_starter 5.ipynb.trashinfo (stored 0%)\n",
      "  adding: home/workspace/.Trash-0/info/WIKI_PRICES 1.csv.trashinfo (stored 0%)\n",
      "  adding: home/workspace/.Trash-0/info/project_helper 4.py.trashinfo (stored 0%)\n",
      "  adding: home/workspace/.Trash-0/info/project_tests 6.py.trashinfo (stored 0%)\n",
      "  adding: home/workspace/.Trash-0/info/project_3_starter 12.ipynb.trashinfo (stored 0%)\n",
      "  adding: home/workspace/.Trash-0/info/project_3_starter 8.ipynb.trashinfo (stored 0%)\n",
      "  adding: home/workspace/.Trash-0/info/project_helper 2.py.trashinfo (deflated 1%)\n",
      "  adding: home/workspace/.Trash-0/info/requirements 9.txt.trashinfo (stored 0%)\n",
      "  adding: home/workspace/.Trash-0/info/IndexReturns 1.html.trashinfo (stored 0%)\n",
      "  adding: home/workspace/.Trash-0/info/tickers_SnP500 1.txt.trashinfo (stored 0%)\n",
      "  adding: home/workspace/.Trash-0/info/requirements 1.txt.trashinfo (stored 0%)\n",
      "  adding: home/workspace/.Trash-0/info/ETFWeights 1.html.trashinfo (stored 0%)\n",
      "  adding: home/workspace/.Trash-0/info/IndexReturns.html.trashinfo (stored 0%)\n",
      "  adding: home/workspace/.Trash-0/info/project_3_starter 7.ipynb.trashinfo (stored 0%)\n",
      "  adding: home/workspace/.Trash-0/info/project_3_solution.ipynb.trashinfo (deflated 1%)\n",
      "  adding: home/workspace/.Trash-0/info/helper 6.py.trashinfo (stored 0%)\n",
      "  adding: home/workspace/.Trash-0/info/project_3_solution 4.ipynb.trashinfo (deflated 1%)\n",
      "  adding: home/workspace/.Trash-0/info/requirements 4.txt.trashinfo (stored 0%)\n",
      "  adding: home/workspace/.Trash-0/info/project_3_solution 2.ipynb.trashinfo (deflated 1%)\n",
      "  adding: home/workspace/.Trash-0/info/project_3_starter.ipynb.trashinfo (stored 0%)\n",
      "  adding: home/workspace/.Trash-0/info/tests 1.py.trashinfo (stored 0%)\n",
      "  adding: home/workspace/.Trash-0/info/project_3_solution 5.ipynb.trashinfo (deflated 1%)\n",
      "  adding: home/workspace/.Trash-0/info/project_3_solution 6.ipynb.trashinfo (deflated 1%)\n",
      "  adding: home/workspace/.Trash-0/info/CloseReturns.html.trashinfo (stored 0%)\n",
      "  adding: home/workspace/.Trash-0/info/project_3_starter 13.ipynb.trashinfo (stored 0%)\n",
      "  adding: home/workspace/.Trash-0/info/requirements.txt.trashinfo (stored 0%)\n",
      "  adding: home/workspace/.Trash-0/info/graphs 1.trashinfo (deflated 2%)\n",
      "  adding: home/workspace/.Trash-0/info/requirements 5.txt.trashinfo (stored 0%)\n",
      "  adding: home/workspace/.Trash-0/info/helper 4.py.trashinfo (stored 0%)\n",
      "  adding: home/workspace/.Trash-0/info/project_tests 4.py.trashinfo (stored 0%)\n",
      "  adding: home/workspace/.Trash-0/info/requirements 7.txt.trashinfo (deflated 1%)\n",
      "  adding: home/workspace/.Trash-0/info/tests.py.trashinfo (stored 0%)\n",
      "  adding: home/workspace/.Trash-0/info/project_helper 1.py.trashinfo (stored 0%)\n",
      "  adding: home/workspace/.Trash-0/info/project_tests 1.py.trashinfo (stored 0%)\n",
      "  adding: home/workspace/.Trash-0/info/IndexWeights 2.html.trashinfo (stored 0%)\n",
      "  adding: home/workspace/.Trash-0/info/CovarianceReturnsCorrelationMatrix.html.trashinfo (stored 0%)\n",
      "  adding: home/workspace/.Trash-0/info/project_3_starter 9.ipynb.trashinfo (deflated 1%)\n",
      "  adding: home/workspace/.Trash-0/info/CloseReturns 2.html.trashinfo (stored 0%)\n",
      "  adding: home/workspace/.Trash-0/info/helper 3.py.trashinfo (stored 0%)\n",
      "  adding: home/workspace/.Trash-0/info/ETFWeights.html.trashinfo (stored 0%)\n",
      "  adding: home/workspace/.Trash-0/info/IndexWeights 1.html.trashinfo (stored 0%)\n",
      "  adding: home/workspace/.Trash-0/info/data 1.trashinfo (deflated 2%)\n",
      "  adding: home/workspace/.Trash-0/info/project_tests 2.py.trashinfo (stored 0%)\n",
      "  adding: home/workspace/.Trash-0/info/project_3_starter 3.ipynb.trashinfo (stored 0%)\n",
      "  adding: home/workspace/.Trash-0/info/requirements 6.txt.trashinfo (stored 0%)\n",
      "  adding: home/workspace/.Trash-0/info/ETFWeights 2.html.trashinfo (stored 0%)\n",
      "  adding: home/workspace/.Trash-0/info/project_3_solution 1.ipynb.trashinfo (deflated 1%)\n",
      "  adding: home/workspace/.Trash-0/info/project_3_starter 2.ipynb.trashinfo (stored 0%)\n",
      "  adding: home/workspace/.Trash-0/info/project_helper.py.trashinfo (stored 0%)\n",
      "  adding: home/workspace/.Trash-0/info/project_3_starter 6.ipynb.trashinfo (stored 0%)\n",
      "  adding: home/workspace/.Trash-0/info/project_3_starter 10.ipynb.trashinfo (stored 0%)\n",
      "  adding: home/workspace/.Trash-0/info/tickers_SnP500.txt.trashinfo (stored 0%)\n",
      "  adding: home/workspace/.Trash-0/info/project_3_starter 1.ipynb.trashinfo (stored 0%)\n",
      "  adding: home/workspace/.Trash-0/info/helper 2.py.trashinfo (stored 0%)\n",
      "  adding: home/workspace/.Trash-0/info/WIKI_PRICES.csv.trashinfo (stored 0%)\n",
      "  adding: home/workspace/.Trash-0/info/IndexReturns 2.html.trashinfo (stored 0%)\n",
      "  adding: home/workspace/.Trash-0/info/CloseReturns 1.html.trashinfo (stored 0%)\n",
      "  adding: home/workspace/.Trash-0/info/project_tests.py.trashinfo (stored 0%)\n",
      "  adding: home/workspace/.Trash-0/info/IndexWeights.html.trashinfo (stored 0%)\n",
      "  adding: home/workspace/.Trash-0/info/ETFReturns 1.html.trashinfo (stored 0%)\n",
      "  adding: home/workspace/.Trash-0/info/requirements 3.txt.trashinfo (stored 0%)\n",
      "  adding: home/workspace/.Trash-0/info/ETFReturns.html.trashinfo (stored 0%)\n",
      "  adding: home/workspace/.Trash-0/info/helper.py.trashinfo (stored 0%)\n",
      "  adding: home/workspace/.Trash-0/info/requirements 2.txt.trashinfo (stored 0%)\n",
      "  adding: home/workspace/.Trash-0/info/project_3_solution 8.ipynb.trashinfo (deflated 4%)\n",
      "  adding: home/workspace/.Trash-0/info/data 2.trashinfo (stored 0%)\n",
      "  adding: home/workspace/.Trash-0/info/project_tests 5.py.trashinfo (deflated 1%)\n",
      "  adding: home/workspace/.Trash-0/info/project_3_starter 4.ipynb.trashinfo (stored 0%)\n",
      "  adding: home/workspace/.Trash-0/info/requirements 8.txt.trashinfo (stored 0%)\n",
      "  adding: home/workspace/.Trash-0/info/ETFReturns 2.html.trashinfo (stored 0%)\n",
      "  adding: home/workspace/.Trash-0/info/project_3_solution 3.ipynb.trashinfo (deflated 1%)\n",
      "  adding: home/workspace/.Trash-0/info/helper 7.py.trashinfo (stored 0%)\n",
      "  adding: home/workspace/.Trash-0/info/project_3_solution 7.ipynb.trashinfo (deflated 1%)\n",
      "  adding: home/workspace/.Trash-0/info/helper 1.py.trashinfo (stored 0%)\n",
      "  adding: home/workspace/.Trash-0/info/project_3_solution 9.ipynb.trashinfo (deflated 3%)\n",
      "  adding: home/workspace/.Trash-0/info/helper 5.py.trashinfo (deflated 2%)\n",
      "  adding: home/workspace/.Trash-0/info/project_tests 3.py.trashinfo (stored 0%)\n",
      "  adding: home/workspace/.Trash-0/info/project_tests 7.py.trashinfo (stored 0%)\n",
      "  adding: home/workspace/.Trash-0/info/graphs.trashinfo (stored 0%)\n",
      "  adding: home/workspace/__pycache__/ (stored 0%)\n",
      "  adding: home/workspace/__pycache__/helper.cpython-36.pyc (deflated 29%)\n",
      "  adding: home/workspace/__pycache__/tests.cpython-36.pyc (deflated 45%)\n",
      "  adding: home/workspace/__pycache__/project_helper.cpython-36.pyc (deflated 51%)\n",
      "  adding: home/workspace/__pycache__/project_tests.cpython-36.pyc (deflated 49%)\n",
      "  adding: home/workspace/project_tests.py (deflated 79%)\n"
     ]
    }
   ],
   "source": [
    "%%bash\n",
    "zip -r /home/workspace/output.zip /home/workspace"
   ]
  },
  {
   "cell_type": "code",
   "execution_count": 8,
   "metadata": {},
   "outputs": [
    {
     "name": "stdout",
     "output_type": "stream",
     "text": [
      "['graphs', 'project_helper.py', 'tests.py', 'eod-quotemedia.csv', '.ipynb_checkpoints', 'project_3_starter.ipynb', 'helper.py', 'output.zip', 'zip_files .ipynb', 'requirements.txt', '.Trash-0', '__pycache__', 'project_tests.py']\n"
     ]
    }
   ],
   "source": [
    "os.chdir(\"/home/workspace\")\n",
    "print(os.listdir())"
   ]
  },
  {
   "cell_type": "code",
   "execution_count": null,
   "metadata": {},
   "outputs": [],
   "source": []
  }
 ],
 "metadata": {
  "kernelspec": {
   "display_name": "Python 3",
   "language": "python",
   "name": "python3"
  },
  "language_info": {
   "codemirror_mode": {
    "name": "ipython",
    "version": 3
   },
   "file_extension": ".py",
   "mimetype": "text/x-python",
   "name": "python",
   "nbconvert_exporter": "python",
   "pygments_lexer": "ipython3",
   "version": "3.6.3"
  }
 },
 "nbformat": 4,
 "nbformat_minor": 2
}
